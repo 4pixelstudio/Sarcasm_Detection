{
 "cells": [
  {
   "cell_type": "code",
   "execution_count": 1,
   "metadata": {},
   "outputs": [],
   "source": [
    "# Imports\n",
    "\n",
    "from nltk import word_tokenize\n",
    "from nltk.corpus import stopwords"
   ]
  },
  {
   "cell_type": "code",
   "execution_count": 2,
   "metadata": {},
   "outputs": [],
   "source": [
    "stop = set(stopwords.words('english'))\n",
    "\n",
    "# print(stop)"
   ]
  },
  {
   "cell_type": "code",
   "execution_count": 3,
   "metadata": {},
   "outputs": [],
   "source": [
    "# Input Text\n",
    "text = 'tyvm u helped me a lot @ the museum! #Sarcasm'"
   ]
  },
  {
   "cell_type": "code",
   "execution_count": 4,
   "metadata": {},
   "outputs": [
    {
     "name": "stdout",
     "output_type": "stream",
     "text": [
      "['tyvm', 'u', 'helped', 'lot', '@', 'museum!', '#sarcasm']\n"
     ]
    }
   ],
   "source": [
    "# Removing Stopwords since it is not used for Sentiment Analysis and for Faster Processing\n",
    "\n",
    "process = [i for i in text.lower().split() if i not in stop]\n",
    "print(process)"
   ]
  },
  {
   "cell_type": "code",
   "execution_count": 5,
   "metadata": {},
   "outputs": [],
   "source": [
    "# Initialization to track the indexes used in abbreviation conversion\n",
    "\n",
    "index_used = set()"
   ]
  },
  {
   "cell_type": "code",
   "execution_count": 6,
   "metadata": {},
   "outputs": [
    {
     "name": "stdout",
     "output_type": "stream",
     "text": [
      "['thank you very much', 'you', 'helped', 'lot', '@', 'museum!', '#sarcasm']\n"
     ]
    }
   ],
   "source": [
    "# Code to remove abbreviations\n",
    "\n",
    "index = 0\n",
    "for x in process:\n",
    "    with open(\"Dictionaries/abbreviations.txt\") as fh:\n",
    "        for line in fh:\n",
    "            if line.startswith(x):\n",
    "                line = line.rsplit(' ',1)[0]\n",
    "                if x == line.split()[0]:\n",
    "                    process[index] = line.split(' ',1)[1]\n",
    "                    index_used.add(index)\n",
    "                    break\n",
    "    index = index + 1\n",
    "\n",
    "print(process)"
   ]
  },
  {
   "cell_type": "code",
   "execution_count": 7,
   "metadata": {},
   "outputs": [
    {
     "name": "stdout",
     "output_type": "stream",
     "text": [
      "{0, 1}\n"
     ]
    }
   ],
   "source": [
    "# Indexes Printed were used in abbreviation and are no longer needed in slang conversion and can be skipped\n",
    "\n",
    "print(index_used)"
   ]
  },
  {
   "cell_type": "code",
   "execution_count": 8,
   "metadata": {},
   "outputs": [
    {
     "name": "stdout",
     "output_type": "stream",
     "text": [
      "['thank you very much', 'you', 'helped', 'lot', 'at', 'museum!', '#sarcasm']\n"
     ]
    }
   ],
   "source": [
    "index = 0\n",
    "for x in process:\n",
    "    if index in index_used:\n",
    "        index = index + 1\n",
    "    else:\n",
    "        with open(\"Dictionaries/slangs.txt\") as fh:\n",
    "            for line in fh:\n",
    "                if line.startswith(x):\n",
    "                    line = line.rsplit(' ',1)[0]\n",
    "                    if x == line.split()[0]:\n",
    "                        process[index] = line.split(' ',1)[1]\n",
    "                        index_used.add(index)\n",
    "                        break\n",
    "        index = index + 1\n",
    "\n",
    "print(process)"
   ]
  },
  {
   "cell_type": "code",
   "execution_count": 9,
   "metadata": {},
   "outputs": [
    {
     "name": "stdout",
     "output_type": "stream",
     "text": [
      "thank you very much you helped lot at museum! #sarcasm\n"
     ]
    }
   ],
   "source": [
    "# Normalized String\n",
    "\n",
    "Normalized = ' '.join(process)\n",
    "print(Normalized)"
   ]
  },
  {
   "cell_type": "code",
   "execution_count": 10,
   "metadata": {},
   "outputs": [
    {
     "name": "stdout",
     "output_type": "stream",
     "text": [
      "thank much helped lot museum! #sarcasm\n"
     ]
    }
   ],
   "source": [
    "Normalized = [i for i in Normalized.lower().split() if i not in stop]\n",
    "Normalized = ' '.join(Normalized)\n",
    "\n",
    "print(Normalized)"
   ]
  }
 ],
 "metadata": {
  "kernelspec": {
   "display_name": "Python 3",
   "language": "python",
   "name": "python3"
  },
  "language_info": {
   "codemirror_mode": {
    "name": "ipython",
    "version": 3
   },
   "file_extension": ".py",
   "mimetype": "text/x-python",
   "name": "python",
   "nbconvert_exporter": "python",
   "pygments_lexer": "ipython3",
   "version": "3.6.1"
  }
 },
 "nbformat": 4,
 "nbformat_minor": 2
}
