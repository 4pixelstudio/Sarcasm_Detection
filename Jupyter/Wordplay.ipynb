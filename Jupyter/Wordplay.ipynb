{
 "cells": [
  {
   "cell_type": "code",
   "execution_count": 1,
   "metadata": {},
   "outputs": [],
   "source": [
    "# Imports\n",
    "\n",
    "import collections\n",
    "from collections import Counter\n",
    "import itertools\n",
    "from string import ascii_lowercase\n",
    "import difflib"
   ]
  },
  {
   "cell_type": "code",
   "execution_count": 6,
   "metadata": {},
   "outputs": [],
   "source": [
    "def RepeatedLettersInTheWord(word):\n",
    "    file = open('Dictionaries/english.txt')\n",
    "    word_list = file.readlines()\n",
    "    word_list = word_list[0].split()\n",
    "    word = word.lower()\n",
    "    if len(word) != 1:\n",
    "        if word in word_list:\n",
    "#             print('Found In Dictionary')\n",
    "            return word\n",
    "        else:\n",
    "            FrequencyOfLetters = collections.Counter(word)\n",
    "            conv1 = list(FrequencyOfLetters.elements())\n",
    "            LengthOfConv = len(conv1)\n",
    "\n",
    "            HighestFrequencyLetter = FrequencyOfLetters.most_common(1)[0]\n",
    "            HighestFrequency = HighestFrequencyLetter[1]\n",
    "            count=0\n",
    "            count1=0\n",
    "\n",
    "            flag = False\n",
    "            y = []\n",
    "\n",
    "            for x in range(0,LengthOfConv-1):\n",
    "                if conv1[x]!=conv1[x+1]:\n",
    "                    y.extend(conv1[x])\n",
    "                    count = count + 1 \n",
    "                else:\n",
    "                    if flag==False:\n",
    "                        count1=count1 + 1\n",
    "                        flag=True\n",
    "                    if flag==True:\n",
    "                        continue\n",
    "            if(HighestFrequency >= 3):\n",
    "                flag = 1\n",
    "            else:\n",
    "                flag = 0\n",
    "                return word\n",
    "               \n",
    "            y.extend(conv1[x+1])\n",
    "            y = ''.join(y)\n",
    "            string_list = difflib.get_close_matches(y, word_list)\n",
    "            return string_list\n",
    "    else:\n",
    "        return word"
   ]
  },
  {
   "cell_type": "code",
   "execution_count": 3,
   "metadata": {},
   "outputs": [],
   "source": [
    "def RepeatedWordsInTheString(string):\n",
    "    FrequencyOfWords = collections.Counter(string.split())\n",
    "    conv = list(FrequencyOfWords.elements())\n",
    "    word = ''\n",
    "    possible_strings = ['']\n",
    "    for x in conv:\n",
    "        word = RepeatedLettersInTheWord(x)\n",
    "        if isinstance(word,str):\n",
    "            for x in range(0,len(possible_strings)):\n",
    "                possible_strings[x] = possible_strings[x] + ' ' + word\n",
    "        elif isinstance(word,list):\n",
    "            temp = []\n",
    "            for y in possible_strings:\n",
    "                for x in word:\n",
    "                    temp.insert(len(possible_strings), y + ' ' + x)\n",
    "        \n",
    "            possible_strings = temp\n",
    "    \n",
    "    return possible_strings"
   ]
  },
  {
   "cell_type": "code",
   "execution_count": 4,
   "metadata": {},
   "outputs": [
    {
     "name": "stdout",
     "output_type": "stream",
     "text": [
      "['god', 'gowd', 'good']\n"
     ]
    }
   ],
   "source": [
    "word = RepeatedLettersInTheWord(\"Goddddd\")\n",
    "print(word)"
   ]
  },
  {
   "cell_type": "code",
   "execution_count": 5,
   "metadata": {},
   "outputs": [
    {
     "name": "stdout",
     "output_type": "stream",
     "text": [
      "[' my god you are god', ' my god you are good', ' my god you are gowd']\n"
     ]
    }
   ],
   "source": [
    "string = RepeatedWordsInTheString('My god you are gooooooddddd')\n",
    "print(string)"
   ]
  },
  {
   "cell_type": "code",
   "execution_count": null,
   "metadata": {},
   "outputs": [],
   "source": [
    "import sys\n",
    "print(sys.maxsize)"
   ]
  }
 ],
 "metadata": {
  "kernelspec": {
   "display_name": "Python 3",
   "language": "python",
   "name": "python3"
  },
  "language_info": {
   "codemirror_mode": {
    "name": "ipython",
    "version": 3
   },
   "file_extension": ".py",
   "mimetype": "text/x-python",
   "name": "python",
   "nbconvert_exporter": "python",
   "pygments_lexer": "ipython3",
   "version": "3.6.1"
  }
 },
 "nbformat": 4,
 "nbformat_minor": 2
}
